{
 "cells": [
  {
   "cell_type": "markdown",
   "metadata": {},
   "source": [
    "# Exercise 2.01: Predicting the Student Capacity of an Elementary School\n",
    "\n",
    "In this exercise, you will be trying to forecast the need for elementary school capacity. Your task is to figure out 2025 and 2030 predictions for the number of children starting elementary school."
   ]
  },
  {
   "cell_type": "markdown",
   "metadata": {},
   "source": [
    "1.- Import `pandas`, `pyplot` and `numpy`modules"
   ]
  },
  {
   "cell_type": "code",
   "execution_count": null,
   "metadata": {},
   "outputs": [],
   "source": []
  },
  {
   "cell_type": "markdown",
   "metadata": {},
   "source": [
    "2.- Load the CSV file as a DataFrame on the Notebook and read the CSV file\n",
    "\n",
    "  > **Hints**  \n",
    "  > Use the `read_csv` function from `pandas`.\n",
    "  \n",
    "Output:\n",
    "\n",
    "![Figure 2.14](img/fig2_14.jpg)"
   ]
  },
  {
   "cell_type": "code",
   "execution_count": null,
   "metadata": {},
   "outputs": [],
   "source": []
  },
  {
   "cell_type": "markdown",
   "metadata": {},
   "source": [
    "3.- Convert the DataFrame into two NumPy arrays. For simplicity, we can indicate that the `year` feature, which is from `2001` to `2018`, is the same as `1` to `18`\n",
    "\n",
    "Output:\n",
    "\n",
    "```\n",
    "array([1, 2, 3, 4, 5, 6, 7, 8, 9, 10, 11, 12, 13, 14, 15, 16, 17, 18])\n",
    "\n",
    "array([147026, 144272, 140020, 143801, 146233,\n",
    "       144539, 141273, 135389, 142500, 139452,\n",
    "       139722, 135300, 137289, 136511, 132884,\n",
    "       125683, 127255, 124275], dtype=int64)\n",
    "```\n"
   ]
  },
  {
   "cell_type": "code",
   "execution_count": null,
   "metadata": {},
   "outputs": [],
   "source": []
  },
  {
   "cell_type": "markdown",
   "metadata": {},
   "source": [
    "4.- Now, with the two NumPy arrays, use the polyfit method (with a degree of 1 as we only have one feature) to determine the coefficients of the regression line.\n",
    "\n",
    "Output:\n",
    "\n",
    "```\n",
    "[-1142.0557275541855, 148817.52941176476]\n",
    "```"
   ]
  },
  {
   "cell_type": "code",
   "execution_count": null,
   "metadata": {},
   "outputs": [],
   "source": []
  },
  {
   "cell_type": "markdown",
   "metadata": {},
   "source": [
    " 5.- Plot the results using `matplotlib.pyplot` and predict the future until $2030$\n",
    " \n",
    " Output:\n",
    " \n",
    "![Figure 2.15](img/fig2_15.jpg)"
   ]
  },
  {
   "cell_type": "code",
   "execution_count": null,
   "metadata": {},
   "outputs": [],
   "source": []
  },
  {
   "cell_type": "markdown",
   "metadata": {},
   "source": [
    "6.- predict the population for $2025$ and $2030$\n",
    "\n",
    "Output:\n",
    "\n",
    "```\n",
    "For 2025 =  120266.13622291012\n",
    "For 2030 =  114555.8575851392 \n",
    "```"
   ]
  },
  {
   "cell_type": "code",
   "execution_count": null,
   "metadata": {},
   "outputs": [],
   "source": []
  },
  {
   "cell_type": "markdown",
   "metadata": {},
   "source": [
    "we can now conclude that the population of children starting elementary school is going to decrease in the future and that there is no need to increase the elementary school capacity if we are currently meeting the needs."
   ]
  }
 ],
 "metadata": {
  "kernelspec": {
   "display_name": "Python 3",
   "language": "python",
   "name": "python3"
  },
  "language_info": {
   "codemirror_mode": {
    "name": "ipython",
    "version": 3
   },
   "file_extension": ".py",
   "mimetype": "text/x-python",
   "name": "python",
   "nbconvert_exporter": "python",
   "pygments_lexer": "ipython3",
   "version": "3.8.5"
  }
 },
 "nbformat": 4,
 "nbformat_minor": 4
}
